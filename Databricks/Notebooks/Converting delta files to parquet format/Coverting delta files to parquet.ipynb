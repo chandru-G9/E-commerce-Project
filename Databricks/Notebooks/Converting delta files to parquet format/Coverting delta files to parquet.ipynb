{
 "cells": [
  {
   "cell_type": "code",
   "execution_count": 0,
   "metadata": {
    "application/vnd.databricks.v1+cell": {
     "cellMetadata": {
      "byteLimit": 2048000,
      "rowLimit": 10000
     },
     "inputWidgets": {},
     "nuid": "4018b11f-bf15-4794-be2f-7e647dc53d00",
     "showTitle": false,
     "tableResultSettingsMap": {},
     "title": ""
    }
   },
   "outputs": [],
   "source": [
    "import os\n",
    "\n",
    "client_id = os.environ.get('client_id')\n",
    "tenant_id = os.environ.get('tenant_id')\n",
    "client_secret = os.environ.get('secret_value')\n",
    "storage_account = \"project1azure1\"\n",
    "\n",
    "spark.conf.set(f\"fs.azure.account.auth.type.{storage_account}.dfs.core.windows.net\", \"OAuth\")\n",
    "spark.conf.set(f\"fs.azure.account.oauth.provider.type.{storage_account}.dfs.core.windows.net\", \"org.apache.hadoop.fs.azurebfs.oauth2.ClientCredsTokenProvider\")\n",
    "spark.conf.set(f\"fs.azure.account.oauth2.client.id.{storage_account}.dfs.core.windows.net\", client_id)\n",
    "spark.conf.set(f\"fs.azure.account.oauth2.client.secret.{storage_account}.dfs.core.windows.net\", client_secret)\n",
    "spark.conf.set(f\"fs.azure.account.oauth2.client.endpoint.{storage_account}.dfs.core.windows.net\", f\"https://login.microsoftonline.com/{tenant_id}/oauth2/token\")"
   ]
  },
  {
   "cell_type": "code",
   "execution_count": 0,
   "metadata": {
    "application/vnd.databricks.v1+cell": {
     "cellMetadata": {
      "byteLimit": 2048000,
      "rowLimit": 10000
     },
     "inputWidgets": {},
     "nuid": "5fafe9c7-ec21-49df-af93-80cb37513f45",
     "showTitle": false,
     "tableResultSettingsMap": {},
     "title": ""
    }
   },
   "outputs": [],
   "source": [
    "dim_visitor = spark.read.format(\"delta\").load(\"abfss://gold@project1azure1.dfs.core.windows.net/dim_visitor\")\n",
    "dim_item = spark.read.format(\"delta\").load(\"abfss://gold@project1azure1.dfs.core.windows.net/dim_item\")\n",
    "dim_date = spark.read.format(\"delta\").load(\"abfss://gold@project1azure1.dfs.core.windows.net/dim_date\")\n",
    "dim_event_type = spark.read.format(\"delta\").load(\"abfss://gold@project1azure1.dfs.core.windows.net/dim_event_type\")\n",
    "dim_time = spark.read.format(\"delta\").load(\"abfss://gold@project1azure1.dfs.core.windows.net/dim_time\")\n",
    "dim_category = spark.read.format(\"delta\").load(\"abfss://gold@project1azure1.dfs.core.windows.net/dim_category\")\n",
    "\n",
    "dim_visitor.write.mode(\"overwrite\").parquet(\"abfss://gold@project1azure1.dfs.core.windows.net/parquet/dim_visitor\")\n",
    "dim_item.write.mode(\"overwrite\").parquet(\"abfss://gold@project1azure1.dfs.core.windows.net/parquet/dim_item\")\n",
    "dim_date.write.mode(\"overwrite\").parquet(\"abfss://gold@project1azure1.dfs.core.windows.net/parquet/dim_date\")\n",
    "dim_event_type.write.mode(\"overwrite\").parquet(\"abfss://gold@project1azure1.dfs.core.windows.net/parquet/dim_event_type\")\n",
    "dim_time.write.mode(\"overwrite\").parquet(\"abfss://gold@project1azure1.dfs.core.windows.net/parquet/dim_time\")\n",
    "dim_category.write.mode(\"overwrite\").parquet(\"abfss://gold@project1azure1.dfs.core.windows.net/parquet/dim_category\")\n"
   ]
  },
  {
   "cell_type": "code",
   "execution_count": 0,
   "metadata": {
    "application/vnd.databricks.v1+cell": {
     "cellMetadata": {
      "byteLimit": 2048000,
      "rowLimit": 10000
     },
     "inputWidgets": {},
     "nuid": "0781077e-1b4b-4ec7-90b5-6d6fd6af4c74",
     "showTitle": false,
     "tableResultSettingsMap": {},
     "title": ""
    }
   },
   "outputs": [],
   "source": [
    "events = spark.read.format(\"delta\").load(\"abfss://silver@project1azure1.dfs.core.windows.net/sales/events\")\n",
    "events.write.mode(\"overwrite\").parquet(\"abfss://gold@project1azure1.dfs.core.windows.net/parquet/events\")"
   ]
  }
 ],
 "metadata": {
  "application/vnd.databricks.v1+notebook": {
   "computePreferences": null,
   "dashboards": [],
   "environmentMetadata": {
    "base_environment": "",
    "environment_version": "2"
   },
   "inputWidgetPreferences": null,
   "language": "python",
   "notebookMetadata": {
    "pythonIndentUnit": 4
   },
   "notebookName": "Coverting delta files to parquet",
   "widgets": {}
  },
  "language_info": {
   "name": "python"
  }
 },
 "nbformat": 4,
 "nbformat_minor": 0
}